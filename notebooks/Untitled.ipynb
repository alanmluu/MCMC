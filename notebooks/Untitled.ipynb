{
 "cells": [
  {
   "cell_type": "code",
   "execution_count": 1,
   "metadata": {},
   "outputs": [
    {
     "name": "stderr",
     "output_type": "stream",
     "text": [
      "/Users/alanluu2/anaconda3/lib/python3.6/site-packages/h5py/__init__.py:36: FutureWarning: Conversion of the second argument of issubdtype from `float` to `np.floating` is deprecated. In future, it will be treated as `np.float64 == np.dtype(float).type`.\n",
      "  from ._conv import register_converters as _register_converters\n"
     ]
    }
   ],
   "source": [
    "import tensorflow as tf\n",
    "import numpy as np\n",
    "import tensorflow.contrib.eager as tfe\n",
    "%load_ext autoreload\n",
    "%autoreload 2"
   ]
  },
  {
   "cell_type": "code",
   "execution_count": 3,
   "metadata": {},
   "outputs": [
    {
     "name": "stdout",
     "output_type": "stream",
     "text": [
      "/Users/alanluu2/Research/MCMC\n"
     ]
    }
   ],
   "source": [
    "cd .."
   ]
  },
  {
   "cell_type": "code",
   "execution_count": 2,
   "metadata": {},
   "outputs": [],
   "source": [
    "tfe.enable_eager_execution()"
   ]
  },
  {
   "cell_type": "code",
   "execution_count": 257,
   "metadata": {},
   "outputs": [],
   "source": [
    "from utils.distributions import Gaussian\n",
    "from utils.ensembles import CanonicalEnsemble\n",
    "from utils.initializers import ConstantInitializer\n",
    "from utils.kernels import GaussianKernel\n",
    "from utils.profilers import Profiler\n",
    "from utils.systems import System\n",
    "from utils.walkers import SingleWalker"
   ]
  },
  {
   "cell_type": "code",
   "execution_count": 258,
   "metadata": {},
   "outputs": [],
   "source": [
    "sigma = tf.constant([[1, 0], [0, 1]], dtype='float32')\n",
    "\n",
    "mu = tf.constant([[0,0]], dtype='float32')\n",
    "\n",
    "init = tf.constant([[4,4]], dtype='float32')\n",
    "\n",
    "gaussian = Gaussian(mu, sigma)\n",
    "\n",
    "ensemble = CanonicalEnsemble()\n",
    "\n",
    "initializer = ConstantInitializer(x=init)\n",
    "\n",
    "kernel = GaussianKernel(sigma)\n",
    "\n",
    "profiler = Profiler()\n",
    "\n",
    "walker = SingleWalker()\n",
    "\n",
    "system = System(distribution=gaussian,\n",
    "                ensemble=ensemble,\n",
    "                initializer=initializer,\n",
    "                kernel=kernel,\n",
    "                profiler=profiler,\n",
    "                walker=walker)"
   ]
  },
  {
   "cell_type": "code",
   "execution_count": 259,
   "metadata": {},
   "outputs": [],
   "source": [
    "from utils.kernels import Hamiltonian"
   ]
  },
  {
   "cell_type": "code",
   "execution_count": 260,
   "metadata": {},
   "outputs": [],
   "source": [
    "hamiltonian = Hamiltonian(5, 0.1, sigma)"
   ]
  },
  {
   "cell_type": "code",
   "execution_count": 261,
   "metadata": {},
   "outputs": [
    {
     "data": {
      "text/plain": [
       "<utils.kernels.Hamiltonian at 0x1c27bbe668>"
      ]
     },
     "execution_count": 261,
     "metadata": {},
     "output_type": "execute_result"
    }
   ],
   "source": [
    "hamiltonian"
   ]
  },
  {
   "cell_type": "code",
   "execution_count": 262,
   "metadata": {},
   "outputs": [],
   "source": [
    "system = System(distribution=gaussian,\n",
    "                ensemble=ensemble,\n",
    "                initializer=initializer,\n",
    "                kernel=hamiltonian,\n",
    "                profiler=profiler,\n",
    "                walker=walker)"
   ]
  },
  {
   "cell_type": "code",
   "execution_count": 264,
   "metadata": {},
   "outputs": [],
   "source": [
    "system.initialize_walker('hmc')"
   ]
  },
  {
   "cell_type": "code",
   "execution_count": 271,
   "metadata": {},
   "outputs": [],
   "source": [
    "system.evolve(50)"
   ]
  },
  {
   "cell_type": "code",
   "execution_count": 253,
   "metadata": {},
   "outputs": [],
   "source": [
    "system.reset_all()"
   ]
  },
  {
   "cell_type": "code",
   "execution_count": 198,
   "metadata": {},
   "outputs": [
    {
     "data": {
      "text/plain": [
       "<tf.Tensor: id=5300, shape=(1, 2), dtype=float32, numpy=array([[4., 4.]], dtype=float32)>"
      ]
     },
     "execution_count": 198,
     "metadata": {},
     "output_type": "execute_result"
    }
   ],
   "source": [
    "system.kernel.hamiltonian_flow(walker.x, system.distribution)"
   ]
  },
  {
   "cell_type": "code",
   "execution_count": 210,
   "metadata": {},
   "outputs": [],
   "source": [
    "p = np.random.multivariate_normal(mean=np.zeros(gaussian.dim),\n",
    "                                  cov=system.kernel.sigma_n,\n",
    "                                  size=1)[0]"
   ]
  },
  {
   "cell_type": "code",
   "execution_count": 213,
   "metadata": {},
   "outputs": [],
   "source": [
    "a, b = hamiltonian.leapfrog_step(walker.x, p, gaussian)"
   ]
  },
  {
   "cell_type": "code",
   "execution_count": 216,
   "metadata": {},
   "outputs": [
    {
     "data": {
      "text/plain": [
       "<tf.Tensor: id=20401, shape=(1, 2), dtype=float32, numpy=array([[-1.4962742 , -0.04807964]], dtype=float32)>"
      ]
     },
     "execution_count": 216,
     "metadata": {},
     "output_type": "execute_result"
    }
   ],
   "source": [
    "b"
   ]
  },
  {
   "cell_type": "code",
   "execution_count": 217,
   "metadata": {},
   "outputs": [
    {
     "data": {
      "text/plain": [
       "<tf.Tensor: id=20406, shape=(1, 2), dtype=float32, numpy=array([[3.8503726, 3.995192 ]], dtype=float32)>"
      ]
     },
     "execution_count": 217,
     "metadata": {},
     "output_type": "execute_result"
    }
   ],
   "source": [
    "walker.x + 0.1*b"
   ]
  },
  {
   "cell_type": "code",
   "execution_count": 243,
   "metadata": {},
   "outputs": [
    {
     "data": {
      "text/plain": [
       "<utils.kernels.Hamiltonian at 0x1c2808eef0>"
      ]
     },
     "execution_count": 243,
     "metadata": {},
     "output_type": "execute_result"
    }
   ],
   "source": [
    "system.kernel"
   ]
  },
  {
   "cell_type": "code",
   "execution_count": 272,
   "metadata": {},
   "outputs": [
    {
     "data": {
      "text/plain": [
       "{'hmc': <tf.Tensor: id=340971, shape=(51, 2), dtype=float32, numpy=\n",
       " array([[ 4.        ,  4.        ],\n",
       "        [ 3.8856769 ,  3.177703  ],\n",
       "        [ 2.8606434 ,  2.123673  ],\n",
       "        [ 2.8027399 ,  1.0268773 ],\n",
       "        [ 2.8027399 ,  1.0268773 ],\n",
       "        [ 2.8027399 ,  1.0268773 ],\n",
       "        [ 2.853823  ,  0.9393257 ],\n",
       "        [ 2.853823  ,  0.9393257 ],\n",
       "        [ 2.7389817 ,  1.2668875 ],\n",
       "        [ 1.5079197 ,  1.2296914 ],\n",
       "        [ 1.5079197 ,  1.2296914 ],\n",
       "        [ 1.5079197 ,  1.2296914 ],\n",
       "        [ 0.511727  ,  1.8332064 ],\n",
       "        [ 0.7599859 ,  1.6811538 ],\n",
       "        [ 0.7599859 ,  1.6811538 ],\n",
       "        [ 0.7599859 ,  1.6811538 ],\n",
       "        [ 0.9121521 ,  1.767234  ],\n",
       "        [ 0.3365481 ,  2.1999435 ],\n",
       "        [ 0.47688562,  1.7802567 ],\n",
       "        [ 0.06432326,  1.5349779 ],\n",
       "        [ 0.57508934,  1.3179388 ],\n",
       "        [ 0.58084685,  1.1083686 ],\n",
       "        [ 0.6403007 , -0.12445542],\n",
       "        [ 0.6403007 , -0.12445542],\n",
       "        [ 0.44940162, -0.5495873 ],\n",
       "        [ 0.31187898,  0.01137046],\n",
       "        [-0.38367432,  0.5669369 ],\n",
       "        [ 0.02052154,  0.04097438],\n",
       "        [ 0.04812916,  0.14061585],\n",
       "        [ 0.9271171 ,  0.9087633 ],\n",
       "        [ 1.0954247 ,  1.076951  ],\n",
       "        [ 1.1660506 ,  1.2332573 ],\n",
       "        [ 1.4072608 ,  1.1818185 ],\n",
       "        [ 1.4072608 ,  1.1818185 ],\n",
       "        [ 0.41065204,  0.4930634 ],\n",
       "        [ 0.13535157,  0.77158165],\n",
       "        [ 0.2989206 ,  0.74217236],\n",
       "        [ 0.6680228 ,  0.90349317],\n",
       "        [ 0.7528565 ,  0.10391873],\n",
       "        [ 0.4929233 , -0.28413936],\n",
       "        [ 0.4929233 , -0.28413936],\n",
       "        [ 1.2575939 , -0.1794254 ],\n",
       "        [ 1.9505174 , -0.19735043],\n",
       "        [ 1.2801003 , -0.05749656],\n",
       "        [ 0.7788734 , -0.89426833],\n",
       "        [ 0.39736927, -0.7946014 ],\n",
       "        [ 0.2747995 , -0.7517314 ],\n",
       "        [ 0.25411496, -1.1421062 ],\n",
       "        [ 0.28682026, -0.8131826 ],\n",
       "        [-0.04172724, -1.4434336 ],\n",
       "        [ 0.10700586, -1.0172229 ]], dtype=float32)>,\n",
       " 'gaussian_prop': <tf.Tensor: id=342973, shape=(51, 2), dtype=float32, numpy=\n",
       " array([[ 4.        ,  4.        ],\n",
       "        [ 4.        ,  4.        ],\n",
       "        [ 4.042799  ,  4.0417175 ],\n",
       "        [ 2.877536  ,  4.084902  ],\n",
       "        [ 2.0326786 ,  3.7764354 ],\n",
       "        [ 2.0326786 ,  3.7764354 ],\n",
       "        [ 1.6266205 ,  2.030856  ],\n",
       "        [ 0.46589348,  2.5115962 ],\n",
       "        [ 0.46589348,  2.5115962 ],\n",
       "        [ 0.46589348,  2.5115962 ],\n",
       "        [ 0.46589348,  2.5115962 ],\n",
       "        [ 0.46589348,  2.5115962 ],\n",
       "        [ 0.46589348,  2.5115962 ],\n",
       "        [ 1.3263701 ,  3.1126623 ],\n",
       "        [ 1.3263701 ,  3.1126623 ],\n",
       "        [ 1.6410378 ,  2.538241  ],\n",
       "        [ 1.6410378 ,  2.538241  ],\n",
       "        [ 0.31592345,  1.9806851 ],\n",
       "        [ 0.02714401,  0.41238064],\n",
       "        [ 0.02714401,  0.41238064],\n",
       "        [ 1.1153044 , -0.08641151],\n",
       "        [ 0.20879285, -0.2723243 ],\n",
       "        [ 0.11208995,  0.8027785 ],\n",
       "        [ 0.11208995,  0.8027785 ],\n",
       "        [ 0.11208995,  0.8027785 ],\n",
       "        [ 0.11208995,  0.8027785 ],\n",
       "        [ 2.0068302 ,  0.5484136 ],\n",
       "        [ 0.9928115 ,  0.22018637],\n",
       "        [ 2.0057814 ,  0.1077238 ],\n",
       "        [ 1.5775397 , -1.8872659 ],\n",
       "        [ 1.5775397 , -1.8872659 ],\n",
       "        [ 1.1549911 , -1.9342146 ],\n",
       "        [ 1.1330289 , -1.9972494 ],\n",
       "        [ 1.3724971 , -0.90990186],\n",
       "        [-0.59921545, -1.9872459 ],\n",
       "        [-1.2661841 , -2.6303422 ],\n",
       "        [-1.2661841 , -2.6303422 ],\n",
       "        [-1.2661841 , -2.6303422 ],\n",
       "        [-0.27962688, -2.4707558 ],\n",
       "        [-1.6936717 , -1.5672985 ],\n",
       "        [-1.6936717 , -1.5672985 ],\n",
       "        [-1.33218   ,  0.02603167],\n",
       "        [-1.33218   ,  0.02603167],\n",
       "        [-2.1041555 , -0.10706048],\n",
       "        [-1.9679536 , -0.0656144 ],\n",
       "        [-1.9679536 , -0.0656144 ],\n",
       "        [-1.9679536 , -0.0656144 ],\n",
       "        [-1.0085953 ,  0.7669178 ],\n",
       "        [-0.4947077 ,  0.20091587],\n",
       "        [-0.87125224, -1.3669851 ],\n",
       "        [-0.49033907, -1.7356596 ]], dtype=float32)>}"
      ]
     },
     "execution_count": 272,
     "metadata": {},
     "output_type": "execute_result"
    }
   ],
   "source": [
    "system.profiler.history"
   ]
  },
  {
   "cell_type": "code",
   "execution_count": 269,
   "metadata": {},
   "outputs": [],
   "source": [
    "system.kernel = kernel"
   ]
  },
  {
   "cell_type": "code",
   "execution_count": 270,
   "metadata": {},
   "outputs": [],
   "source": [
    "system.initialize_walker('gaussian_prop')"
   ]
  },
  {
   "cell_type": "code",
   "execution_count": 273,
   "metadata": {},
   "outputs": [
    {
     "data": {
      "image/png": "[encoded data removed]",
      "text/plain": [
       "<Figure size 576x576 with 1 Axes>"
      ]
     },
     "metadata": {},
     "output_type": "display_data"
    }
   ],
   "source": [
    "system.viz_trajectory()"
   ]
  },
  {
   "cell_type": "code",
   "execution_count": 274,
   "metadata": {},
   "outputs": [
    {
     "data": {
      "image/png": "[encoded data removed]",
      "text/plain": [
       "<Figure size 576x576 with 1 Axes>"
      ]
     },
     "metadata": {},
     "output_type": "display_data"
    }
   ],
   "source": [
    "system.viz_trajectory('hmc')"
   ]
  },
  {
   "cell_type": "code",
   "execution_count": 128,
   "metadata": {},
   "outputs": [],
   "source": [
    "sigma2 = tf.constant([[2, 0], [0, 2]], dtype='float32')"
   ]
  },
  {
   "cell_type": "code",
   "execution_count": 133,
   "metadata": {},
   "outputs": [
    {
     "data": {
      "text/plain": [
       "<tf.Tensor: id=4694, shape=(1, 2), dtype=float32, numpy=array([[ 1.4754562, -0.8020736]], dtype=float32)>"
      ]
     },
     "execution_count": 133,
     "metadata": {},
     "output_type": "execute_result"
    }
   ],
   "source": [
    "walker.x"
   ]
  },
  {
   "cell_type": "code",
   "execution_count": 129,
   "metadata": {},
   "outputs": [],
   "source": [
    "gaussian2 = Gaussian(mu, sigma2)"
   ]
  },
  {
   "cell_type": "code",
   "execution_count": 134,
   "metadata": {},
   "outputs": [
    {
     "name": "stdout",
     "output_type": "stream",
     "text": [
      "tf.Tensor([[ 0.7377281 -0.4010368]], shape=(1, 2), dtype=float32)\n"
     ]
    }
   ],
   "source": [
    "x = walker.x\n",
    "energy_fn = gaussian2.get_energy_fn()\n",
    "with tf.GradientTape() as g:\n",
    "    g.watch(x)\n",
    "    y = energy_fn(x)\n",
    "dy_dx = g.gradient(y, x)\n",
    "print(dy_dx)"
   ]
  },
  {
   "cell_type": "code",
   "execution_count": 138,
   "metadata": {},
   "outputs": [],
   "source": [
    "sigma_n = sigma.numpy()"
   ]
  },
  {
   "cell_type": "code",
   "execution_count": 148,
   "metadata": {},
   "outputs": [
    {
     "data": {
      "text/plain": [
       "2"
      ]
     },
     "execution_count": 148,
     "metadata": {},
     "output_type": "execute_result"
    }
   ],
   "source": [
    "gaussian.dim"
   ]
  },
  {
   "cell_type": "code",
   "execution_count": 149,
   "metadata": {},
   "outputs": [],
   "source": [
    "p = np.random.multivariate_normal(mean=np.zeros(gaussian.dim),\n",
    "                                cov=sigma,\n",
    "                                size=1)[0]"
   ]
  },
  {
   "cell_type": "code",
   "execution_count": 143,
   "metadata": {},
   "outputs": [
    {
     "data": {
      "text/plain": [
       "array([0., 0.])"
      ]
     },
     "execution_count": 143,
     "metadata": {},
     "output_type": "execute_result"
    }
   ],
   "source": [
    "np.zeros(2)"
   ]
  },
  {
   "cell_type": "code",
   "execution_count": 110,
   "metadata": {},
   "outputs": [
    {
     "data": {
      "text/plain": [
       "\u001b[0;31mInit signature:\u001b[0m \u001b[0mtf\u001b[0m\u001b[0;34m.\u001b[0m\u001b[0mGradientTape\u001b[0m\u001b[0;34m(\u001b[0m\u001b[0mpersistent\u001b[0m\u001b[0;34m=\u001b[0m\u001b[0;32mFalse\u001b[0m\u001b[0;34m)\u001b[0m\u001b[0;34m\u001b[0m\u001b[0m\n",
       "\u001b[0;31mDocstring:\u001b[0m     \n",
       "Record operations for automatic differentiation.\n",
       "\n",
       "Operations are recorded if they are executed within this context manager and\n",
       "at least one of their inputs is being \"watched\".\n",
       "\n",
       "Trainable variables (created by `tf.contrib.eager.Variable` or\n",
       "@{tf.get_variable}, trainable=True is default in both cases) are automatically\n",
       "watched. Tensors can be manually watched by invoking the `watch` method on\n",
       "this context manager.\n",
       "\n",
       "For example, consider the function `y = x * x`. The gradient at `x = 3.0` can\n",
       "be computed as:\n",
       "\n",
       "```python\n",
       "x = tf.constant(3.0)\n",
       "with tf.GradientTape() as g:\n",
       "  g.watch(x)\n",
       "  y = x * x\n",
       "dy_dx = g.gradient(y, x) # Will compute to 6.0\n",
       "```\n",
       "\n",
       "GradientTapes can be nested to compute higher-order derivatives. For example,\n",
       "\n",
       "```python\n",
       "x = tf.constant(3.0)\n",
       "with tf.GradientTape() as g:\n",
       "  with tf.GradientTape() as gg:\n",
       "    gg.watch(x)\n",
       "    y = x * x\n",
       "  dy_dx = gg.gradient(y, x)     # Will compute to 6.0\n",
       "d2y_dx2 = g.gradient(dy_dx, x)  # Will compute to 2.0\n",
       "```\n",
       "\n",
       "By default, the resources held by a GradientTape are released as soon as\n",
       "GradientTape.gradient() method is called. To compute multiple gradients over\n",
       "the same computation, create a persistent gradient tape. This allows multiple\n",
       "calls to the gradient() method as resources are released when the tape object\n",
       "is garbage collected. For example:\n",
       "\n",
       "```python\n",
       "x = tf.constant(3.0)\n",
       "with tf.GradientTape(persistent=True) as g:\n",
       "  g.watch(x)\n",
       "  y = x * x\n",
       "  z = y * y\n",
       "dz_dx = g.gradient(z, x)  # 108.0 (4*x^3 at x = 3)\n",
       "dy_dx = g.gradient(y, x)  # 6.0\n",
       "del g  # Drop the reference to the tape\n",
       "```\n",
       "\n",
       "Note that only tensors with real or complex dtypes are differentiable.\n",
       "\u001b[0;31mInit docstring:\u001b[0m\n",
       "Creates a new GradientTape.\n",
       "\n",
       "Args:\n",
       "  persistent: Boolean controlling whether a persistent gradient tape\n",
       "    is created. False by default, which means at most one call can\n",
       "    be made to the gradient() method on this object.\n",
       "\u001b[0;31mFile:\u001b[0m           ~/anaconda3/lib/python3.6/site-packages/tensorflow/python/eager/backprop.py\n",
       "\u001b[0;31mType:\u001b[0m           type\n"
      ]
     },
     "metadata": {},
     "output_type": "display_data"
    }
   ],
   "source": [
    "tf.GradientTape?"
   ]
  },
  {
   "cell_type": "code",
   "execution_count": 83,
   "metadata": {},
   "outputs": [],
   "source": [
    "system.initialize_walker()"
   ]
  },
  {
   "cell_type": "code",
   "execution_count": 87,
   "metadata": {},
   "outputs": [
    {
     "data": {
      "image/png": "[encoded data removed]",
      "text/plain": [
       "<Figure size 576x576 with 1 Axes>"
      ]
     },
     "metadata": {},
     "output_type": "display_data"
    }
   ],
   "source": [
    "system.viz_dist()"
   ]
  },
  {
   "cell_type": "code",
   "execution_count": 94,
   "metadata": {},
   "outputs": [],
   "source": [
    "system.evolve(30)"
   ]
  },
  {
   "cell_type": "code",
   "execution_count": 95,
   "metadata": {},
   "outputs": [
    {
     "data": {
      "image/png": "[encoded data removed]",
      "text/plain": [
       "<Figure size 576x576 with 1 Axes>"
      ]
     },
     "metadata": {},
     "output_type": "display_data"
    }
   ],
   "source": [
    "system.viz_trajectory()"
   ]
  },
  {
   "cell_type": "code",
   "execution_count": 96,
   "metadata": {},
   "outputs": [
    {
     "data": {
      "text/plain": [
       "array([1., 0.], dtype=float32)"
      ]
     },
     "execution_count": 96,
     "metadata": {},
     "output_type": "execute_result"
    }
   ],
   "source": [
    "sigma.numpy()[:,0]"
   ]
  },
  {
   "cell_type": "code",
   "execution_count": 24,
   "metadata": {},
   "outputs": [],
   "source": [
    "en = g.get_energy_fn()"
   ]
  },
  {
   "cell_type": "code",
   "execution_count": 39,
   "metadata": {},
   "outputs": [],
   "source": [
    "x = tf.constant([[0,0]], dtype='float32')"
   ]
  },
  {
   "cell_type": "code",
   "execution_count": 53,
   "metadata": {},
   "outputs": [
    {
     "data": {
      "text/plain": [
       "<tf.Tensor: id=94, shape=(1,), dtype=float32, numpy=array([0.5], dtype=float32)>"
      ]
     },
     "execution_count": 53,
     "metadata": {},
     "output_type": "execute_result"
    }
   ],
   "source": [
    "en(x)"
   ]
  },
  {
   "cell_type": "code",
   "execution_count": null,
   "metadata": {},
   "outputs": [],
   "source": [
    "tf.diag_part(0.5 * tf.matmul(tf.matmul(x - mu, i_sigma), tf.transpose(x - mu)))"
   ]
  },
  {
   "cell_type": "code",
   "execution_count": 18,
   "metadata": {},
   "outputs": [],
   "source": [
    "i_sigma = np.linalg.inv(np.copy(sigma))"
   ]
  },
  {
   "cell_type": "code",
   "execution_count": 21,
   "metadata": {},
   "outputs": [
    {
     "data": {
      "text/plain": [
       "<tf.Tensor: id=11, shape=(2, 2), dtype=float32, numpy=\n",
       "array([[1., 0.],\n",
       "       [0., 1.]], dtype=float32)>"
      ]
     },
     "execution_count": 21,
     "metadata": {},
     "output_type": "execute_result"
    }
   ],
   "source": [
    "sigma"
   ]
  },
  {
   "cell_type": "code",
   "execution_count": 32,
   "metadata": {},
   "outputs": [
    {
     "data": {
      "text/plain": [
       "<tf.Tensor: id=22, shape=(2,), dtype=float32, numpy=array([0., 0.], dtype=float32)>"
      ]
     },
     "execution_count": 32,
     "metadata": {},
     "output_type": "execute_result"
    }
   ],
   "source": [
    "mu = "
   ]
  },
  {
   "cell_type": "code",
   "execution_count": 43,
   "metadata": {},
   "outputs": [
    {
     "data": {
      "text/plain": [
       "TensorShape([Dimension(1), Dimension(2)])"
      ]
     },
     "execution_count": 43,
     "metadata": {},
     "output_type": "execute_result"
    }
   ],
   "source": [
    "mu.get_shape()"
   ]
  },
  {
   "cell_type": "code",
   "execution_count": 54,
   "metadata": {},
   "outputs": [],
   "source": [
    "a = tf.tf.matmul(x - mu, sigma)"
   ]
  },
  {
   "cell_type": "code",
   "execution_count": 57,
   "metadata": {},
   "outputs": [],
   "source": [
    " exp = tf.diag_part(0.5 * tf.matmul(tf.matmul(x - mu, i_sigma),\n",
    "                                        tf.transpose(x - mu)))"
   ]
  },
  {
   "cell_type": "code",
   "execution_count": 58,
   "metadata": {},
   "outputs": [
    {
     "data": {
      "text/plain": [
       "<tf.Tensor: id=127, shape=(1,), dtype=float32, numpy=array([0.5], dtype=float32)>"
      ]
     },
     "execution_count": 58,
     "metadata": {},
     "output_type": "execute_result"
    }
   ],
   "source": [
    "exp"
   ]
  },
  {
   "cell_type": "code",
   "execution_count": 49,
   "metadata": {},
   "outputs": [],
   "source": [
    "t = tf.transpose(x - mu)"
   ]
  },
  {
   "cell_type": "code",
   "execution_count": 46,
   "metadata": {},
   "outputs": [],
   "source": [
    "x = tf.constant([[1,0]], dtype='float32')"
   ]
  },
  {
   "cell_type": "code",
   "execution_count": 50,
   "metadata": {},
   "outputs": [
    {
     "ename": "InvalidArgumentError",
     "evalue": "Matrix size-incompatible: In[0]: [2,1], In[1]: [2,2] [Op:MatMul] name: MatMul/",
     "output_type": "error",
     "traceback": [
      "\u001b[0;31m---------------------------------------------------------------------------\u001b[0m",
      "\u001b[0;31mInvalidArgumentError\u001b[0m                      Traceback (most recent call last)",
      "\u001b[0;32m<ipython-input-50-06d2c16d69ed>\u001b[0m in \u001b[0;36m<module>\u001b[0;34m()\u001b[0m\n\u001b[0;32m----> 1\u001b[0;31m \u001b[0mtf\u001b[0m\u001b[0;34m.\u001b[0m\u001b[0mmatmul\u001b[0m\u001b[0;34m(\u001b[0m\u001b[0mt\u001b[0m\u001b[0;34m,\u001b[0m \u001b[0msigma\u001b[0m\u001b[0;34m)\u001b[0m\u001b[0;34m\u001b[0m\u001b[0m\n\u001b[0m",
      "\u001b[0;32m~/Programs/anaconda3/lib/python3.6/site-packages/tensorflow/python/ops/math_ops.py\u001b[0m in \u001b[0;36mmatmul\u001b[0;34m(a, b, transpose_a, transpose_b, adjoint_a, adjoint_b, a_is_sparse, b_is_sparse, name)\u001b[0m\n\u001b[1;32m   2016\u001b[0m     \u001b[0;32melse\u001b[0m\u001b[0;34m:\u001b[0m\u001b[0;34m\u001b[0m\u001b[0m\n\u001b[1;32m   2017\u001b[0m       return gen_math_ops.mat_mul(\n\u001b[0;32m-> 2018\u001b[0;31m           a, b, transpose_a=transpose_a, transpose_b=transpose_b, name=name)\n\u001b[0m\u001b[1;32m   2019\u001b[0m \u001b[0;34m\u001b[0m\u001b[0m\n\u001b[1;32m   2020\u001b[0m \u001b[0;34m\u001b[0m\u001b[0m\n",
      "\u001b[0;32m~/Programs/anaconda3/lib/python3.6/site-packages/tensorflow/python/ops/gen_math_ops.py\u001b[0m in \u001b[0;36mmat_mul\u001b[0;34m(a, b, transpose_a, transpose_b, name)\u001b[0m\n\u001b[1;32m   4480\u001b[0m       \u001b[0;32melse\u001b[0m\u001b[0;34m:\u001b[0m\u001b[0;34m\u001b[0m\u001b[0m\n\u001b[1;32m   4481\u001b[0m         \u001b[0mmessage\u001b[0m \u001b[0;34m=\u001b[0m \u001b[0me\u001b[0m\u001b[0;34m.\u001b[0m\u001b[0mmessage\u001b[0m\u001b[0;34m\u001b[0m\u001b[0m\n\u001b[0;32m-> 4482\u001b[0;31m       \u001b[0m_six\u001b[0m\u001b[0;34m.\u001b[0m\u001b[0mraise_from\u001b[0m\u001b[0;34m(\u001b[0m\u001b[0m_core\u001b[0m\u001b[0;34m.\u001b[0m\u001b[0m_status_to_exception\u001b[0m\u001b[0;34m(\u001b[0m\u001b[0me\u001b[0m\u001b[0;34m.\u001b[0m\u001b[0mcode\u001b[0m\u001b[0;34m,\u001b[0m \u001b[0mmessage\u001b[0m\u001b[0;34m)\u001b[0m\u001b[0;34m,\u001b[0m \u001b[0;32mNone\u001b[0m\u001b[0;34m)\u001b[0m\u001b[0;34m\u001b[0m\u001b[0m\n\u001b[0m\u001b[1;32m   4483\u001b[0m \u001b[0;34m\u001b[0m\u001b[0m\n\u001b[1;32m   4484\u001b[0m \u001b[0;34m\u001b[0m\u001b[0m\n",
      "\u001b[0;32m~/Programs/anaconda3/lib/python3.6/site-packages/six.py\u001b[0m in \u001b[0;36mraise_from\u001b[0;34m(value, from_value)\u001b[0m\n",
      "\u001b[0;31mInvalidArgumentError\u001b[0m: Matrix size-incompatible: In[0]: [2,1], In[1]: [2,2] [Op:MatMul] name: MatMul/"
     ]
    }
   ],
   "source": [
    "tf.matmul(t, sigma)"
   ]
  },
  {
   "cell_type": "code",
   "execution_count": 63,
   "metadata": {},
   "outputs": [
    {
     "data": {
      "text/plain": [
       "<tf.Tensor: id=132, shape=(1,), dtype=float32, numpy=array([0.60653067], dtype=float32)>"
      ]
     },
     "execution_count": 63,
     "metadata": {},
     "output_type": "execute_result"
    }
   ],
   "source": [
    "tf.math.exp(x=-exp)"
   ]
  },
  {
   "cell_type": "code",
   "execution_count": 71,
   "metadata": {},
   "outputs": [
    {
     "data": {
      "text/plain": [
       "<tf.Tensor: id=127, shape=(1,), dtype=float32, numpy=array([0.5], dtype=float32)>"
      ]
     },
     "execution_count": 71,
     "metadata": {},
     "output_type": "execute_result"
    }
   ],
   "source": [
    "exp"
   ]
  },
  {
   "cell_type": "code",
   "execution_count": 62,
   "metadata": {},
   "outputs": [
    {
     "data": {
      "text/plain": [
       "1.6487212707001282"
      ]
     },
     "execution_count": 62,
     "metadata": {},
     "output_type": "execute_result"
    }
   ],
   "source": [
    "math.exp(0.5)"
   ]
  },
  {
   "cell_type": "code",
   "execution_count": 72,
   "metadata": {},
   "outputs": [],
   "source": [
    "from utils.walkers import SingleWalker"
   ]
  },
  {
   "cell_type": "code",
   "execution_count": 74,
   "metadata": {},
   "outputs": [],
   "source": [
    "w = SingleWalker()"
   ]
  },
  {
   "cell_type": "code",
   "execution_count": 75,
   "metadata": {},
   "outputs": [],
   "source": [
    "from utils.initializers import ConstantInitializer"
   ]
  },
  {
   "cell_type": "code",
   "execution_count": 76,
   "metadata": {},
   "outputs": [],
   "source": [
    "init = ConstantInitializer(tf.constant([[0,0]]))"
   ]
  },
  {
   "cell_type": "code",
   "execution_count": 77,
   "metadata": {},
   "outputs": [
    {
     "data": {
      "text/plain": [
       "<utils.initializers.ConstantInitializer at 0x1c27aeecf8>"
      ]
     },
     "execution_count": 77,
     "metadata": {},
     "output_type": "execute_result"
    }
   ],
   "source": [
    "init"
   ]
  },
  {
   "cell_type": "code",
   "execution_count": 79,
   "metadata": {},
   "outputs": [],
   "source": [
    "init.initialize(w)"
   ]
  },
  {
   "cell_type": "code",
   "execution_count": 80,
   "metadata": {},
   "outputs": [
    {
     "data": {
      "text/plain": [
       "<tf.Tensor: id=144, shape=(1, 2), dtype=int32, numpy=array([[0, 0]], dtype=int32)>"
      ]
     },
     "execution_count": 80,
     "metadata": {},
     "output_type": "execute_result"
    }
   ],
   "source": [
    "w.x"
   ]
  },
  {
   "cell_type": "code",
   "execution_count": null,
   "metadata": {},
   "outputs": [],
   "source": [
    "np.random.multivariate_normal(mean=x,\n",
    "                                             cov=self.sigma,\n",
    "                                             size=1)[0]"
   ]
  },
  {
   "cell_type": "code",
   "execution_count": 85,
   "metadata": {},
   "outputs": [],
   "source": [
    "x = w.x.numpy()\n",
    "sigma_cov = sigma.numpy()"
   ]
  },
  {
   "cell_type": "code",
   "execution_count": 90,
   "metadata": {},
   "outputs": [
    {
     "data": {
      "text/plain": [
       "array([-2.10643794,  1.94987535])"
      ]
     },
     "execution_count": 90,
     "metadata": {},
     "output_type": "execute_result"
    }
   ],
   "source": [
    "np.random.multivariate_normal(mean=x[0],\n",
    "                                             cov=sigma_cov,\n",
    "                                             size=1)[0]"
   ]
  },
  {
   "cell_type": "markdown",
   "metadata": {},
   "source": [
    "x"
   ]
  },
  {
   "cell_type": "code",
   "execution_count": 88,
   "metadata": {},
   "outputs": [
    {
     "data": {
      "text/plain": [
       "array([[0, 0]], dtype=int32)"
      ]
     },
     "execution_count": 88,
     "metadata": {},
     "output_type": "execute_result"
    }
   ],
   "source": [
    "x"
   ]
  },
  {
   "cell_type": "code",
   "execution_count": 91,
   "metadata": {},
   "outputs": [
    {
     "ename": "ModuleNotFoundError",
     "evalue": "No module named 'tensorflow_probability'",
     "output_type": "error",
     "traceback": [
      "\u001b[0;31m---------------------------------------------------------------------------\u001b[0m",
      "\u001b[0;31mModuleNotFoundError\u001b[0m                       Traceback (most recent call last)",
      "\u001b[0;32m<ipython-input-91-472fb67cc0e6>\u001b[0m in \u001b[0;36m<module>\u001b[0;34m()\u001b[0m\n\u001b[0;32m----> 1\u001b[0;31m \u001b[0;32mimport\u001b[0m \u001b[0mtensorflow_probability\u001b[0m \u001b[0;32mas\u001b[0m \u001b[0mtfp\u001b[0m\u001b[0;34m\u001b[0m\u001b[0m\n\u001b[0m\u001b[1;32m      2\u001b[0m \u001b[0mtfd\u001b[0m \u001b[0;34m=\u001b[0m \u001b[0mtfp\u001b[0m\u001b[0;34m.\u001b[0m\u001b[0mdistributions\u001b[0m\u001b[0;34m\u001b[0m\u001b[0m\n",
      "\u001b[0;31mModuleNotFoundError\u001b[0m: No module named 'tensorflow_probability'"
     ]
    }
   ],
   "source": [
    "import tensorflow_probability as tfp\n",
    "tfd = tfp.distributions"
   ]
  },
  {
   "cell_type": "code",
   "execution_count": 92,
   "metadata": {},
   "outputs": [],
   "source": [
    "n = np.array([0,0])"
   ]
  },
  {
   "cell_type": "code",
   "execution_count": 93,
   "metadata": {},
   "outputs": [
    {
     "data": {
      "text/plain": [
       "array([0, 0])"
      ]
     },
     "execution_count": 93,
     "metadata": {},
     "output_type": "execute_result"
    }
   ],
   "source": [
    "n"
   ]
  },
  {
   "cell_type": "code",
   "execution_count": 99,
   "metadata": {},
   "outputs": [],
   "source": [
    "tf_n = tf.constant([n])"
   ]
  },
  {
   "cell_type": "code",
   "execution_count": 100,
   "metadata": {},
   "outputs": [
    {
     "data": {
      "text/plain": [
       "<tf.Tensor: id=158, shape=(1, 2), dtype=int32, numpy=array([[0, 0]], dtype=int32)>"
      ]
     },
     "execution_count": 100,
     "metadata": {},
     "output_type": "execute_result"
    }
   ],
   "source": [
    "tf_n"
   ]
  },
  {
   "cell_type": "code",
   "execution_count": 98,
   "metadata": {},
   "outputs": [
    {
     "data": {
      "text/plain": [
       "<tf.Tensor: id=155, shape=(2,), dtype=int64, numpy=array([0, 0])>"
      ]
     },
     "execution_count": 98,
     "metadata": {},
     "output_type": "execute_result"
    }
   ],
   "source": [
    "tf_n"
   ]
  },
  {
   "cell_type": "code",
   "execution_count": 107,
   "metadata": {},
   "outputs": [],
   "source": [
    "a = tf.constant(2)"
   ]
  },
  {
   "cell_type": "code",
   "execution_count": 108,
   "metadata": {},
   "outputs": [],
   "source": [
    "b = tf.constant(3)"
   ]
  },
  {
   "cell_type": "code",
   "execution_count": 109,
   "metadata": {},
   "outputs": [
    {
     "data": {
      "text/plain": [
       "<tf.Tensor: id=169, shape=(), dtype=int32, numpy=6>"
      ]
     },
     "execution_count": 109,
     "metadata": {},
     "output_type": "execute_result"
    }
   ],
   "source": [
    "tf.multiply(a, b)"
   ]
  },
  {
   "cell_type": "code",
   "execution_count": 113,
   "metadata": {},
   "outputs": [],
   "source": [
    "a = g.get_density(tf.constant([[1,2]], dtype='float32'))"
   ]
  },
  {
   "cell_type": "code",
   "execution_count": 114,
   "metadata": {},
   "outputs": [],
   "source": [
    "b = g.get_density(tf.constant([[2,2]], dtype='float32'))"
   ]
  },
  {
   "cell_type": "code",
   "execution_count": 115,
   "metadata": {},
   "outputs": [
    {
     "data": {
      "text/plain": [
       "<tf.Tensor: id=221, shape=(1,), dtype=float32, numpy=array([4.481689], dtype=float32)>"
      ]
     },
     "execution_count": 115,
     "metadata": {},
     "output_type": "execute_result"
    }
   ],
   "source": [
    "tf.divide(a,b)"
   ]
  },
  {
   "cell_type": "code",
   "execution_count": 116,
   "metadata": {},
   "outputs": [
    {
     "data": {
      "text/plain": [
       "<tf.Tensor: id=204, shape=(1,), dtype=float32, numpy=array([0.082085], dtype=float32)>"
      ]
     },
     "execution_count": 116,
     "metadata": {},
     "output_type": "execute_result"
    }
   ],
   "source": [
    "a"
   ]
  },
  {
   "cell_type": "code",
   "execution_count": 117,
   "metadata": {},
   "outputs": [
    {
     "data": {
      "text/plain": [
       "<tf.Tensor: id=220, shape=(1,), dtype=float32, numpy=array([0.01831564], dtype=float32)>"
      ]
     },
     "execution_count": 117,
     "metadata": {},
     "output_type": "execute_result"
    }
   ],
   "source": [
    "b"
   ]
  },
  {
   "cell_type": "code",
   "execution_count": 125,
   "metadata": {},
   "outputs": [],
   "source": [
    "tf_2 = tf.constant([2], dtype='float32')"
   ]
  },
  {
   "cell_type": "code",
   "execution_count": 120,
   "metadata": {},
   "outputs": [
    {
     "data": {
      "text/plain": [
       "<tf.Tensor: id=226, shape=(1,), dtype=float32, numpy=array([0.01831564], dtype=float32)>"
      ]
     },
     "execution_count": 120,
     "metadata": {},
     "output_type": "execute_result"
    }
   ],
   "source": [
    "tf.multiply(tf_1, b)"
   ]
  },
  {
   "cell_type": "code",
   "execution_count": 128,
   "metadata": {},
   "outputs": [
    {
     "data": {
      "text/plain": [
       "1.0"
      ]
     },
     "execution_count": 128,
     "metadata": {},
     "output_type": "execute_result"
    }
   ],
   "source": [
    "tf.minimum(1, tf_2).numpy()[0]"
   ]
  },
  {
   "cell_type": "code",
   "execution_count": 129,
   "metadata": {},
   "outputs": [],
   "source": [
    "x = tf.constant([1, 4])\n",
    "y = tf.constant([2, 5])\n",
    "z = tf.constant([3, 6])"
   ]
  },
  {
   "cell_type": "code",
   "execution_count": 131,
   "metadata": {},
   "outputs": [],
   "source": [
    "a = w.x"
   ]
  },
  {
   "cell_type": "code",
   "execution_count": 135,
   "metadata": {},
   "outputs": [],
   "source": [
    "a = tf.constant([[1,1]], dtype='float32')"
   ]
  },
  {
   "cell_type": "code",
   "execution_count": 133,
   "metadata": {},
   "outputs": [],
   "source": [
    "b = tf.constant([[2,2]], dtype='float32')"
   ]
  },
  {
   "cell_type": "code",
   "execution_count": 140,
   "metadata": {},
   "outputs": [
    {
     "data": {
      "text/plain": [
       "<tf.Tensor: id=262, shape=(2, 2), dtype=float32, numpy=\n",
       "array([[1., 1.],\n",
       "       [2., 2.]], dtype=float32)>"
      ]
     },
     "execution_count": 140,
     "metadata": {},
     "output_type": "execute_result"
    }
   ],
   "source": [
    "tf.concat([a,b], axis=0)"
   ]
  },
  {
   "cell_type": "code",
   "execution_count": 98,
   "metadata": {},
   "outputs": [],
   "source": [
    "en_fn = gaussian.get_energy_fn()"
   ]
  },
  {
   "cell_type": "code",
   "execution_count": 101,
   "metadata": {},
   "outputs": [
    {
     "data": {
      "text/plain": [
       "<tf.Tensor: id=4883, shape=(1,), dtype=float32, numpy=array([0.5], dtype=float32)>"
      ]
     },
     "execution_count": 101,
     "metadata": {},
     "output_type": "execute_result"
    }
   ],
   "source": [
    "en_fn(tf.constant([0,1], dtype='float32'))"
   ]
  },
  {
   "cell_type": "code",
   "execution_count": 102,
   "metadata": {},
   "outputs": [
    {
     "ename": "TypeError",
     "evalue": "gradients() missing 1 required positional argument: 'xs'",
     "output_type": "error",
     "traceback": [
      "\u001b[0;31m---------------------------------------------------------------------------\u001b[0m",
      "\u001b[0;31mTypeError\u001b[0m                                 Traceback (most recent call last)",
      "\u001b[0;32m<ipython-input-102-96d3416b0965>\u001b[0m in \u001b[0;36m<module>\u001b[0;34m()\u001b[0m\n\u001b[0;32m----> 1\u001b[0;31m \u001b[0mtf\u001b[0m\u001b[0;34m.\u001b[0m\u001b[0mgradients\u001b[0m\u001b[0;34m(\u001b[0m\u001b[0men_fn\u001b[0m\u001b[0;34m)\u001b[0m\u001b[0;34m\u001b[0m\u001b[0m\n\u001b[0m",
      "\u001b[0;31mTypeError\u001b[0m: gradients() missing 1 required positional argument: 'xs'"
     ]
    }
   ],
   "source": [
    "tf.gradients(en_fn, xs="
   ]
  },
  {
   "cell_type": "code",
   "execution_count": 104,
   "metadata": {},
   "outputs": [
    {
     "data": {
      "text/plain": [
       "\u001b[0;31mSignature:\u001b[0m \u001b[0men_fn\u001b[0m\u001b[0;34m(\u001b[0m\u001b[0mx\u001b[0m\u001b[0;34m)\u001b[0m\u001b[0;34m\u001b[0m\u001b[0m\n",
       "\u001b[0;31mDocstring:\u001b[0m <no docstring>\n",
       "\u001b[0;31mFile:\u001b[0m      ~/Research/MCMC/utils/distributions.py\n",
       "\u001b[0;31mType:\u001b[0m      function\n"
      ]
     },
     "metadata": {},
     "output_type": "display_data"
    }
   ],
   "source": [
    "en_fn?"
   ]
  },
  {
   "cell_type": "code",
   "execution_count": 107,
   "metadata": {},
   "outputs": [
    {
     "name": "stdout",
     "output_type": "stream",
     "text": [
      "tf.Tensor([[2.]], shape=(1, 1), dtype=float32)\n"
     ]
    }
   ],
   "source": [
    "w = tf.contrib.eager.Variable([[1.0]])\n",
    "with tf.GradientTape() as tape:\n",
    "  loss = w * w\n",
    "\n",
    "grad = tape.gradient(loss, w)\n",
    "print(grad)  # => tf.Tensor([[ 2.]], shape=(1, 1), dtype=float32)"
   ]
  },
  {
   "cell_type": "code",
   "execution_count": 105,
   "metadata": {},
   "outputs": [
    {
     "ename": "NameError",
     "evalue": "name 'x' is not defined",
     "output_type": "error",
     "traceback": [
      "\u001b[0;31m---------------------------------------------------------------------------\u001b[0m",
      "\u001b[0;31mNameError\u001b[0m                                 Traceback (most recent call last)",
      "\u001b[0;32m<ipython-input-105-824b2908cb7a>\u001b[0m in \u001b[0;36m<module>\u001b[0;34m()\u001b[0m\n\u001b[0;32m----> 1\u001b[0;31m \u001b[0mtf\u001b[0m\u001b[0;34m.\u001b[0m\u001b[0mgradients\u001b[0m\u001b[0;34m(\u001b[0m\u001b[0mys\u001b[0m\u001b[0;34m=\u001b[0m\u001b[0men_fn\u001b[0m\u001b[0;34m,\u001b[0m \u001b[0mxs\u001b[0m\u001b[0;34m=\u001b[0m\u001b[0mx\u001b[0m\u001b[0;34m)\u001b[0m\u001b[0;34m\u001b[0m\u001b[0m\n\u001b[0m",
      "\u001b[0;31mNameError\u001b[0m: name 'x' is not defined"
     ]
    }
   ],
   "source": [
    "tf.gradients(ys=en_fn, xs=x)"
   ]
  },
  {
   "cell_type": "code",
   "execution_count": 281,
   "metadata": {},
   "outputs": [],
   "source": [
    "nb_mixtures = 3\n",
    "pis = [0.2, 0.4, 0.4]\n",
    "n=100"
   ]
  },
  {
   "cell_type": "code",
   "execution_count": 282,
   "metadata": {},
   "outputs": [],
   "source": [
    "import collections"
   ]
  },
  {
   "cell_type": "code",
   "execution_count": 283,
   "metadata": {},
   "outputs": [],
   "source": [
    "categorical = np.random.choice(nb_mixtures, size=(n,), p=pis)\n",
    "counter_samples = collections.Counter(categorical)"
   ]
  },
  {
   "cell_type": "code",
   "execution_count": 284,
   "metadata": {},
   "outputs": [
    {
     "data": {
      "text/plain": [
       "array([1, 0, 1, 0, 1, 2, 2, 1, 2, 2, 1, 1, 1, 2, 1, 2, 1, 2, 0, 1, 2, 0,\n",
       "       1, 2, 1, 0, 1, 2, 1, 2, 2, 1, 2, 2, 0, 2, 2, 1, 0, 0, 2, 1, 1, 2,\n",
       "       2, 1, 2, 1, 2, 1, 1, 1, 1, 2, 1, 1, 2, 1, 2, 0, 2, 1, 2, 0, 2, 1,\n",
       "       0, 1, 2, 2, 0, 0, 1, 2, 1, 1, 2, 0, 2, 2, 1, 1, 0, 1, 1, 1, 2, 2,\n",
       "       1, 2, 1, 1, 1, 1, 1, 2, 0, 2, 2, 2])"
      ]
     },
     "execution_count": 284,
     "metadata": {},
     "output_type": "execute_result"
    }
   ],
   "source": [
    "categorical"
   ]
  },
  {
   "cell_type": "code",
   "execution_count": 285,
   "metadata": {},
   "outputs": [
    {
     "data": {
      "text/plain": [
       "Counter({1: 44, 0: 16, 2: 40})"
      ]
     },
     "execution_count": 285,
     "metadata": {},
     "output_type": "execute_result"
    }
   ],
   "source": [
    "counter_samples"
   ]
  },
  {
   "cell_type": "code",
   "execution_count": 292,
   "metadata": {},
   "outputs": [],
   "source": [
    "a = np.array([[1,2], [0,0], [0,3]])"
   ]
  },
  {
   "cell_type": "code",
   "execution_count": 288,
   "metadata": {},
   "outputs": [
    {
     "data": {
      "text/plain": [
       "array([1., 2.], dtype=float32)"
      ]
     },
     "execution_count": 288,
     "metadata": {},
     "output_type": "execute_result"
    }
   ],
   "source": [
    "a.astype('float32')"
   ]
  },
  {
   "cell_type": "code",
   "execution_count": 293,
   "metadata": {},
   "outputs": [
    {
     "data": {
      "text/plain": [
       "3"
      ]
     },
     "execution_count": 293,
     "metadata": {},
     "output_type": "execute_result"
    }
   ],
   "source": [
    "len(a)"
   ]
  },
  {
   "cell_type": "code",
   "execution_count": 294,
   "metadata": {},
   "outputs": [],
   "source": [
    "a = np.array([[[1,0],[0,1]], [[1,0],[0,1]]])"
   ]
  },
  {
   "cell_type": "code",
   "execution_count": 295,
   "metadata": {},
   "outputs": [
    {
     "data": {
      "text/plain": [
       "3"
      ]
     },
     "execution_count": 295,
     "metadata": {},
     "output_type": "execute_result"
    }
   ],
   "source": [
    "len(a)"
   ]
  },
  {
   "cell_type": "code",
   "execution_count": 296,
   "metadata": {},
   "outputs": [
    {
     "data": {
      "text/plain": [
       "array([[[1, 0],\n",
       "        [0, 1]],\n",
       "\n",
       "       [[1, 0],\n",
       "        [0, 1]],\n",
       "\n",
       "       [[1, 0],\n",
       "        [0, 1]]])"
      ]
     },
     "execution_count": 296,
     "metadata": {},
     "output_type": "execute_result"
    }
   ],
   "source": [
    "a"
   ]
  },
  {
   "cell_type": "code",
   "execution_count": 317,
   "metadata": {},
   "outputs": [],
   "source": [
    "from utils.distributions import GMM"
   ]
  },
  {
   "cell_type": "code",
   "execution_count": 299,
   "metadata": {},
   "outputs": [],
   "source": [
    "mus = np.array([[-4, 0], [4,0]])"
   ]
  },
  {
   "cell_type": "code",
   "execution_count": 300,
   "metadata": {},
   "outputs": [],
   "source": [
    "sigmas = np.array([[[1,0],[0,1]], [[1,0],[0,1]]])"
   ]
  },
  {
   "cell_type": "code",
   "execution_count": 301,
   "metadata": {},
   "outputs": [],
   "source": [
    "pis = np.array([0.5, 0.5])"
   ]
  },
  {
   "cell_type": "code",
   "execution_count": 318,
   "metadata": {},
   "outputs": [],
   "source": [
    "gmm = GMM(mus, sigmas, pis)"
   ]
  },
  {
   "cell_type": "code",
   "execution_count": 321,
   "metadata": {},
   "outputs": [
    {
     "data": {
      "image/png": "[encoded data removed]",
      "text/plain": [
       "<Figure size 432x288 with 1 Axes>"
      ]
     },
     "metadata": {},
     "output_type": "display_data"
    }
   ],
   "source": [
    "gmm.viz(1000)"
   ]
  },
  {
   "cell_type": "code",
   "execution_count": null,
   "metadata": {},
   "outputs": [],
   "source": []
  }
 ],
 "metadata": {
  "kernelspec": {
   "display_name": "Python 3",
   "language": "python",
   "name": "python3"
  },
  "language_info": {
   "codemirror_mode": {
    "name": "ipython",
    "version": 3
   },
   "file_extension": ".py",
   "mimetype": "text/x-python",
   "name": "python",
   "nbconvert_exporter": "python",
   "pygments_lexer": "ipython3",
   "version": "3.6.5"
  }
 },
 "nbformat": 4,
 "nbformat_minor": 2
}
